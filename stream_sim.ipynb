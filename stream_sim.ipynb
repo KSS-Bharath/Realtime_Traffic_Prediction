{
 "cells": [
  {
   "cell_type": "code",
   "execution_count": 2,
   "id": "906245a5-5c18-4276-a4c2-dacd2fa90096",
   "metadata": {},
   "outputs": [
    {
     "name": "stderr",
     "output_type": "stream",
     "text": [
      "C:\\Users\\karna\\AppData\\Local\\Temp\\ipykernel_28656\\3984124738.py:7: FutureWarning: 'H' is deprecated and will be removed in a future version, please use 'h' instead.\n",
      "  df = df[df['Junction'] == 1].asfreq('H').fillna(method='ffill')\n",
      "C:\\Users\\karna\\AppData\\Local\\Temp\\ipykernel_28656\\3984124738.py:7: FutureWarning: DataFrame.fillna with 'method' is deprecated and will raise in a future version. Use obj.ffill() or obj.bfill() instead.\n",
      "  df = df[df['Junction'] == 1].asfreq('H').fillna(method='ffill')\n"
     ]
    },
    {
     "name": "stdout",
     "output_type": "stream",
     "text": [
      " Streaming started...\n",
      "  2015-11-02 00:00:00: 14 vehicles\n",
      "  2015-11-02 01:00:00: 12 vehicles\n",
      "  2015-11-02 02:00:00: 14 vehicles\n",
      "  2015-11-02 03:00:00: 12 vehicles\n",
      "  2015-11-02 04:00:00: 12 vehicles\n",
      "  2015-11-02 05:00:00: 11 vehicles\n",
      "  2015-11-02 06:00:00: 13 vehicles\n",
      "  2015-11-02 07:00:00: 14 vehicles\n",
      "  2015-11-02 08:00:00: 12 vehicles\n",
      "  2015-11-02 09:00:00: 22 vehicles\n",
      "  2015-11-02 10:00:00: 32 vehicles\n",
      "  2015-11-02 11:00:00: 31 vehicles\n",
      "  2015-11-02 12:00:00: 35 vehicles\n",
      "  2015-11-02 13:00:00: 26 vehicles\n",
      "  2015-11-02 14:00:00: 34 vehicles\n",
      "  2015-11-02 15:00:00: 30 vehicles\n",
      "  2015-11-02 16:00:00: 27 vehicles\n",
      "  2015-11-02 17:00:00: 27 vehicles\n",
      "  2015-11-02 18:00:00: 24 vehicles\n",
      "  2015-11-02 19:00:00: 26 vehicles\n",
      "  2015-11-02 20:00:00: 29 vehicles\n",
      "  2015-11-02 21:00:00: 32 vehicles\n",
      "  2015-11-02 22:00:00: 30 vehicles\n",
      "  2015-11-02 23:00:00: 27 vehicles\n",
      "  2015-11-03 00:00:00: 21 vehicles\n",
      "  2015-11-03 01:00:00: 18 vehicles\n",
      "  2015-11-03 02:00:00: 19 vehicles\n",
      "  2015-11-03 03:00:00: 13 vehicles\n",
      "  2015-11-03 04:00:00: 11 vehicles\n",
      "  2015-11-03 05:00:00: 11 vehicles\n",
      "  2015-11-03 06:00:00: 11 vehicles\n",
      "  2015-11-03 07:00:00: 14 vehicles\n",
      "  2015-11-03 08:00:00: 15 vehicles\n",
      "  2015-11-03 09:00:00: 29 vehicles\n",
      "  2015-11-03 10:00:00: 33 vehicles\n",
      "  2015-11-03 11:00:00: 32 vehicles\n",
      "  2015-11-03 12:00:00: 32 vehicles\n",
      "  2015-11-03 13:00:00: 29 vehicles\n",
      "  2015-11-03 14:00:00: 27 vehicles\n",
      "  2015-11-03 15:00:00: 26 vehicles\n",
      "  2015-11-03 16:00:00: 28 vehicles\n",
      "  2015-11-03 17:00:00: 26 vehicles\n",
      "  2015-11-03 18:00:00: 25 vehicles\n",
      "  2015-11-03 19:00:00: 29 vehicles\n",
      "  2015-11-03 20:00:00: 26 vehicles\n",
      "  2015-11-03 21:00:00: 24 vehicles\n",
      "  2015-11-03 22:00:00: 25 vehicles\n",
      "  2015-11-03 23:00:00: 20 vehicles\n",
      "  2015-11-04 00:00:00: 18 vehicles\n",
      "  2015-11-04 01:00:00: 18 vehicles\n",
      "  2015-11-04 02:00:00: 13 vehicles\n",
      "  2015-11-04 03:00:00: 13 vehicles\n",
      "  2015-11-04 04:00:00: 10 vehicles\n",
      "  2015-11-04 05:00:00: 12 vehicles\n",
      "  2015-11-04 06:00:00: 13 vehicles\n",
      "  2015-11-04 07:00:00: 11 vehicles\n",
      "  2015-11-04 08:00:00: 13 vehicles\n",
      "  2015-11-04 09:00:00: 22 vehicles\n",
      "  2015-11-04 10:00:00: 26 vehicles\n",
      "  2015-11-04 11:00:00: 27 vehicles\n",
      "  2015-11-04 12:00:00: 31 vehicles\n",
      "  2015-11-04 13:00:00: 24 vehicles\n",
      "  2015-11-04 14:00:00: 23 vehicles\n",
      "  2015-11-04 15:00:00: 26 vehicles\n",
      "  2015-11-04 16:00:00: 26 vehicles\n",
      "  2015-11-04 17:00:00: 24 vehicles\n",
      "  2015-11-04 18:00:00: 23 vehicles\n",
      "  2015-11-04 19:00:00: 25 vehicles\n",
      "  2015-11-04 20:00:00: 26 vehicles\n",
      "  2015-11-04 21:00:00: 24 vehicles\n",
      "  2015-11-04 22:00:00: 26 vehicles\n",
      "  2015-11-04 23:00:00: 24 vehicles\n",
      "  2015-11-05 00:00:00: 19 vehicles\n",
      "  2015-11-05 01:00:00: 20 vehicles\n",
      "  2015-11-05 02:00:00: 18 vehicles\n",
      "  2015-11-05 03:00:00: 13 vehicles\n"
     ]
    },
    {
     "ename": "KeyboardInterrupt",
     "evalue": "",
     "output_type": "error",
     "traceback": [
      "\u001b[1;31m---------------------------------------------------------------------------\u001b[0m",
      "\u001b[1;31mKeyboardInterrupt\u001b[0m                         Traceback (most recent call last)",
      "Cell \u001b[1;32mIn[2], line 20\u001b[0m\n\u001b[0;32m     18\u001b[0m \u001b[38;5;28mprint\u001b[39m(\u001b[38;5;124mf\u001b[39m\u001b[38;5;124m\"\u001b[39m\u001b[38;5;124m  \u001b[39m\u001b[38;5;132;01m{\u001b[39;00mcurrent\u001b[38;5;132;01m}\u001b[39;00m\u001b[38;5;124m: \u001b[39m\u001b[38;5;132;01m{\u001b[39;00mval\u001b[38;5;132;01m}\u001b[39;00m\u001b[38;5;124m vehicles\u001b[39m\u001b[38;5;124m\"\u001b[39m)\n\u001b[0;32m     19\u001b[0m current \u001b[38;5;241m+\u001b[39m\u001b[38;5;241m=\u001b[39m timedelta(hours\u001b[38;5;241m=\u001b[39m\u001b[38;5;241m1\u001b[39m)\n\u001b[1;32m---> 20\u001b[0m time\u001b[38;5;241m.\u001b[39msleep(\u001b[38;5;241m1\u001b[39m)\n",
      "\u001b[1;31mKeyboardInterrupt\u001b[0m: "
     ]
    }
   ],
   "source": [
    "# stream_sim.py\n",
    "import pandas as pd\n",
    "import time\n",
    "from datetime import timedelta\n",
    "\n",
    "df = pd.read_csv('traffic.csv', parse_dates=['DateTime'], index_col='DateTime')\n",
    "df = df[df['Junction'] == 1].asfreq('H').fillna(method='ffill')\n",
    "\n",
    "start = df.index.min() + timedelta(hours=24)\n",
    "end = df.index.max()\n",
    "current = start\n",
    "\n",
    "print(\" Streaming started...\")\n",
    "while current <= end:\n",
    "    val = df.loc[current, 'Vehicles']\n",
    "    with open('stream.txt', 'w') as f:\n",
    "        f.write(f\"{current},{val}\")\n",
    "    print(f\"  {current}: {val} vehicles\")\n",
    "    current += timedelta(hours=1)\n",
    "    time.sleep(1)\n",
    "\n"
   ]
  },
  {
   "cell_type": "code",
   "execution_count": null,
   "id": "dd08c51f-314a-4aad-914e-8d1627ff75bf",
   "metadata": {},
   "outputs": [],
   "source": []
  },
  {
   "cell_type": "code",
   "execution_count": null,
   "id": "1e64727c-6097-4bab-9d6d-bbe09a8e4476",
   "metadata": {},
   "outputs": [],
   "source": []
  }
 ],
 "metadata": {
  "kernelspec": {
   "display_name": "Python 3 (ipykernel)",
   "language": "python",
   "name": "python3"
  },
  "language_info": {
   "codemirror_mode": {
    "name": "ipython",
    "version": 3
   },
   "file_extension": ".py",
   "mimetype": "text/x-python",
   "name": "python",
   "nbconvert_exporter": "python",
   "pygments_lexer": "ipython3",
   "version": "3.12.7"
  }
 },
 "nbformat": 4,
 "nbformat_minor": 5
}
